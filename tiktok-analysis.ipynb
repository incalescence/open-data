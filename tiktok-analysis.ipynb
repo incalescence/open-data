{
 "cells": [
  {
   "attachments": {},
   "cell_type": "markdown",
   "metadata": {},
   "source": [
    "# Tiktok Famous"
   ]
  },
  {
   "cell_type": "code",
   "execution_count": 1,
   "metadata": {},
   "outputs": [
    {
     "name": "stdout",
     "output_type": "stream",
     "text": [
      "I'm a placeholder\n"
     ]
    }
   ],
   "source": [
    "print(\"I'm a placeholder\")"
   ]
  },
  {
   "attachments": {},
   "cell_type": "markdown",
   "metadata": {},
   "source": [
    "Importing Libraries"
   ]
  },
  {
   "cell_type": "code",
   "execution_count": 3,
   "metadata": {},
   "outputs": [],
   "source": [
    "import matplotlib\n",
    "import matplotlib.pyplot as plt\n",
    "import numpy as np\n",
    "import pandas as pd\n",
    "import os\n",
    "from datetime import datetime"
   ]
  },
  {
   "attachments": {},
   "cell_type": "markdown",
   "metadata": {},
   "source": [
    "Formatting the notebook"
   ]
  },
  {
   "cell_type": "code",
   "execution_count": 4,
   "metadata": {},
   "outputs": [],
   "source": [
    "%matplotlib inline\n",
    "plt.rcParams[\"figure.figsize\"] = (10, 5)\n",
    "saved_style_state = matplotlib.rcParams.copy()"
   ]
  },
  {
   "attachments": {},
   "cell_type": "markdown",
   "metadata": {},
   "source": [
    "Loading in data"
   ]
  },
  {
   "cell_type": "code",
   "execution_count": 18,
   "metadata": {},
   "outputs": [
    {
     "data": {
      "text/html": [
       "<div>\n",
       "<style scoped>\n",
       "    .dataframe tbody tr th:only-of-type {\n",
       "        vertical-align: middle;\n",
       "    }\n",
       "\n",
       "    .dataframe tbody tr th {\n",
       "        vertical-align: top;\n",
       "    }\n",
       "\n",
       "    .dataframe thead th {\n",
       "        text-align: right;\n",
       "    }\n",
       "</style>\n",
       "<table border=\"1\" class=\"dataframe\">\n",
       "  <thead>\n",
       "    <tr style=\"text-align: right;\">\n",
       "      <th></th>\n",
       "      <th>adAuthorization</th>\n",
       "      <th>adLabelVersion</th>\n",
       "      <th>author_commentSetting</th>\n",
       "      <th>author_downloadSetting</th>\n",
       "      <th>author_ftc</th>\n",
       "      <th>author_id</th>\n",
       "      <th>author_isADVirtual</th>\n",
       "      <th>author_isEmbedBanned</th>\n",
       "      <th>author_nickname</th>\n",
       "      <th>author_openFavorite</th>\n",
       "      <th>...</th>\n",
       "      <th>video_format</th>\n",
       "      <th>video_height</th>\n",
       "      <th>video_id</th>\n",
       "      <th>video_ratio</th>\n",
       "      <th>video_size</th>\n",
       "      <th>video_videoQuality</th>\n",
       "      <th>video_volumeInfo_Loudness</th>\n",
       "      <th>video_volumeInfo_Peak</th>\n",
       "      <th>video_width</th>\n",
       "      <th>vl1</th>\n",
       "    </tr>\n",
       "  </thead>\n",
       "  <tbody>\n",
       "    <tr>\n",
       "      <th>0</th>\n",
       "      <td>False</td>\n",
       "      <td>0</td>\n",
       "      <td>0</td>\n",
       "      <td>0</td>\n",
       "      <td>False</td>\n",
       "      <td>7.203680e+18</td>\n",
       "      <td>False</td>\n",
       "      <td>False</td>\n",
       "      <td>Champagne Rugby</td>\n",
       "      <td>False</td>\n",
       "      <td>...</td>\n",
       "      <td>mp4</td>\n",
       "      <td>1024</td>\n",
       "      <td>7.231160e+18</td>\n",
       "      <td>540p</td>\n",
       "      <td>15117887</td>\n",
       "      <td>normal</td>\n",
       "      <td>-17.8</td>\n",
       "      <td>0.97724</td>\n",
       "      <td>576</td>\n",
       "      <td>False</td>\n",
       "    </tr>\n",
       "    <tr>\n",
       "      <th>1</th>\n",
       "      <td>False</td>\n",
       "      <td>0</td>\n",
       "      <td>0</td>\n",
       "      <td>0</td>\n",
       "      <td>False</td>\n",
       "      <td>6.945440e+18</td>\n",
       "      <td>False</td>\n",
       "      <td>False</td>\n",
       "      <td>ovbs119</td>\n",
       "      <td>False</td>\n",
       "      <td>...</td>\n",
       "      <td>mp4</td>\n",
       "      <td>720</td>\n",
       "      <td>7.220380e+18</td>\n",
       "      <td>720p</td>\n",
       "      <td>12804640</td>\n",
       "      <td>normal</td>\n",
       "      <td>-12.8</td>\n",
       "      <td>1.00000</td>\n",
       "      <td>720</td>\n",
       "      <td>False</td>\n",
       "    </tr>\n",
       "    <tr>\n",
       "      <th>2</th>\n",
       "      <td>False</td>\n",
       "      <td>0</td>\n",
       "      <td>0</td>\n",
       "      <td>0</td>\n",
       "      <td>False</td>\n",
       "      <td>7.192650e+18</td>\n",
       "      <td>False</td>\n",
       "      <td>False</td>\n",
       "      <td>djdtkc6</td>\n",
       "      <td>False</td>\n",
       "      <td>...</td>\n",
       "      <td>mp4</td>\n",
       "      <td>1024</td>\n",
       "      <td>7.248610e+18</td>\n",
       "      <td>540p</td>\n",
       "      <td>12821575</td>\n",
       "      <td>normal</td>\n",
       "      <td>-13.2</td>\n",
       "      <td>0.97724</td>\n",
       "      <td>576</td>\n",
       "      <td>False</td>\n",
       "    </tr>\n",
       "    <tr>\n",
       "      <th>3</th>\n",
       "      <td>False</td>\n",
       "      <td>0</td>\n",
       "      <td>0</td>\n",
       "      <td>0</td>\n",
       "      <td>False</td>\n",
       "      <td>7.236630e+18</td>\n",
       "      <td>False</td>\n",
       "      <td>False</td>\n",
       "      <td>cynthia</td>\n",
       "      <td>False</td>\n",
       "      <td>...</td>\n",
       "      <td>mp4</td>\n",
       "      <td>1024</td>\n",
       "      <td>7.243060e+18</td>\n",
       "      <td>540p</td>\n",
       "      <td>16999526</td>\n",
       "      <td>normal</td>\n",
       "      <td>-13.5</td>\n",
       "      <td>1.00000</td>\n",
       "      <td>576</td>\n",
       "      <td>False</td>\n",
       "    </tr>\n",
       "    <tr>\n",
       "      <th>4</th>\n",
       "      <td>False</td>\n",
       "      <td>0</td>\n",
       "      <td>0</td>\n",
       "      <td>0</td>\n",
       "      <td>False</td>\n",
       "      <td>7.119910e+18</td>\n",
       "      <td>False</td>\n",
       "      <td>False</td>\n",
       "      <td>all_join</td>\n",
       "      <td>False</td>\n",
       "      <td>...</td>\n",
       "      <td>mp4</td>\n",
       "      <td>854</td>\n",
       "      <td>7.247990e+18</td>\n",
       "      <td>480p</td>\n",
       "      <td>2250370</td>\n",
       "      <td>normal</td>\n",
       "      <td>-21.5</td>\n",
       "      <td>0.72444</td>\n",
       "      <td>480</td>\n",
       "      <td>False</td>\n",
       "    </tr>\n",
       "  </tbody>\n",
       "</table>\n",
       "<p>5 rows × 84 columns</p>\n",
       "</div>"
      ],
      "text/plain": [
       "   adAuthorization  adLabelVersion  author_commentSetting  \\\n",
       "0            False               0                      0   \n",
       "1            False               0                      0   \n",
       "2            False               0                      0   \n",
       "3            False               0                      0   \n",
       "4            False               0                      0   \n",
       "\n",
       "   author_downloadSetting  author_ftc     author_id  author_isADVirtual  \\\n",
       "0                       0       False  7.203680e+18               False   \n",
       "1                       0       False  6.945440e+18               False   \n",
       "2                       0       False  7.192650e+18               False   \n",
       "3                       0       False  7.236630e+18               False   \n",
       "4                       0       False  7.119910e+18               False   \n",
       "\n",
       "   author_isEmbedBanned  author_nickname  author_openFavorite  ...  \\\n",
       "0                 False  Champagne Rugby                False  ...   \n",
       "1                 False          ovbs119                False  ...   \n",
       "2                 False          djdtkc6                False  ...   \n",
       "3                 False          cynthia                False  ...   \n",
       "4                 False         all_join                False  ...   \n",
       "\n",
       "   video_format  video_height      video_id  video_ratio video_size  \\\n",
       "0           mp4          1024  7.231160e+18         540p   15117887   \n",
       "1           mp4           720  7.220380e+18         720p   12804640   \n",
       "2           mp4          1024  7.248610e+18         540p   12821575   \n",
       "3           mp4          1024  7.243060e+18         540p   16999526   \n",
       "4           mp4           854  7.247990e+18         480p    2250370   \n",
       "\n",
       "   video_videoQuality  video_volumeInfo_Loudness video_volumeInfo_Peak  \\\n",
       "0              normal                      -17.8               0.97724   \n",
       "1              normal                      -12.8               1.00000   \n",
       "2              normal                      -13.2               0.97724   \n",
       "3              normal                      -13.5               1.00000   \n",
       "4              normal                      -21.5               0.72444   \n",
       "\n",
       "   video_width    vl1  \n",
       "0          576  False  \n",
       "1          720  False  \n",
       "2          576  False  \n",
       "3          576  False  \n",
       "4          480  False  \n",
       "\n",
       "[5 rows x 84 columns]"
      ]
     },
     "execution_count": 18,
     "metadata": {},
     "output_type": "execute_result"
    }
   ],
   "source": [
    "filepath = \"tiktok-data/cleanedtiktok.csv\"\n",
    "tiktok_data = pd.read_csv(filepath)\n",
    "tiktok_data.head()"
   ]
  },
  {
   "cell_type": "code",
   "execution_count": 19,
   "metadata": {},
   "outputs": [
    {
     "data": {
      "text/plain": [
       "Index(['adAuthorization', 'adLabelVersion', 'author_commentSetting',\n",
       "       'author_downloadSetting', 'author_ftc', 'author_id',\n",
       "       'author_isADVirtual', 'author_isEmbedBanned', 'author_nickname',\n",
       "       'author_openFavorite', 'author_privateAccount', 'author_relation',\n",
       "       'author_secUid', 'author_secret', 'author_signature',\n",
       "       'author_stitchSetting', 'author_ttSeller', 'author_uniqueId',\n",
       "       'author_verified', 'authorStats_diggCount', 'authorStats_followerCount',\n",
       "       'authorStats_followingCount', 'authorStats_heart',\n",
       "       'authorStats_heartCount', 'authorStats_videoCount', 'collected',\n",
       "       'contents_0_desc', 'contents_1_desc', 'createTime', 'desc', 'digged',\n",
       "       'diversificationId', 'forFriend', 'id', 'isAd', 'itemMute',\n",
       "       'music_album', 'music_authorName', 'music_duration', 'music_id',\n",
       "       'music_original', 'music_title', 'officalItem', 'originalItem',\n",
       "       'playlistId', 'privateItem', 'secret', 'shareEnabled', 'showNotPass',\n",
       "       'stats_collectCount', 'stats_commentCount', 'stats_diggCount',\n",
       "       'stats_playCount', 'stats_shareCount', 'stitchDisplay', 'stitchEnabled',\n",
       "       'video_bitrate', 'video_bitrateInfo_0_Bitrate',\n",
       "       'video_bitrateInfo_0_CodecType', 'video_bitrateInfo_0_GearName',\n",
       "       'video_bitrateInfo_0_QualityType', 'video_bitrateInfo_1_Bitrate',\n",
       "       'video_bitrateInfo_1_CodecType', 'video_bitrateInfo_1_GearName',\n",
       "       'video_bitrateInfo_1_QualityType', 'video_bitrateInfo_2_Bitrate',\n",
       "       'video_bitrateInfo_2_CodecType', 'video_bitrateInfo_2_GearName',\n",
       "       'video_bitrateInfo_2_QualityType', 'video_codecType',\n",
       "       'video_definition', 'video_duration', 'video_encodeUserTag',\n",
       "       'video_encodedType', 'video_format', 'video_height', 'video_id',\n",
       "       'video_ratio', 'video_size', 'video_videoQuality',\n",
       "       'video_volumeInfo_Loudness', 'video_volumeInfo_Peak', 'video_width',\n",
       "       'vl1'],\n",
       "      dtype='object')"
      ]
     },
     "execution_count": 19,
     "metadata": {},
     "output_type": "execute_result"
    }
   ],
   "source": [
    "tiktok_data.columns"
   ]
  },
  {
   "cell_type": "code",
   "execution_count": 20,
   "metadata": {},
   "outputs": [
    {
     "data": {
      "text/plain": [
       "adAuthorization               False\n",
       "adLabelVersion                    0\n",
       "author_commentSetting             0\n",
       "author_downloadSetting            0\n",
       "author_ftc                    False\n",
       "                              ...  \n",
       "video_videoQuality           normal\n",
       "video_volumeInfo_Loudness     -12.8\n",
       "video_volumeInfo_Peak           1.0\n",
       "video_width                     720\n",
       "vl1                           False\n",
       "Name: 1, Length: 84, dtype: object"
      ]
     },
     "execution_count": 20,
     "metadata": {},
     "output_type": "execute_result"
    }
   ],
   "source": [
    "row_one = tiktok_data.iloc[1]\n",
    "row_one"
   ]
  },
  {
   "cell_type": "code",
   "execution_count": 21,
   "metadata": {},
   "outputs": [
    {
     "data": {
      "text/plain": [
       "<AxesSubplot:>"
      ]
     },
     "execution_count": 21,
     "metadata": {},
     "output_type": "execute_result"
    },
    {
     "data": {
      "image/png": "[encoded data removed]",
      "text/plain": [
       "<Figure size 720x360 with 1 Axes>"
      ]
     },
     "metadata": {
      "needs_background": "light"
     },
     "output_type": "display_data"
    }
   ],
   "source": [
    "tiktok_data[\"video_size\"].plot()"
   ]
  },
  {
   "cell_type": "code",
   "execution_count": 22,
   "metadata": {},
   "outputs": [
    {
     "data": {
      "text/plain": [
       "<AxesSubplot:>"
      ]
     },
     "execution_count": 22,
     "metadata": {},
     "output_type": "execute_result"
    },
    {
     "data": {
      "image/png": "[encoded data removed]",
      "text/plain": [
       "<Figure size 720x360 with 1 Axes>"
      ]
     },
     "metadata": {
      "needs_background": "light"
     },
     "output_type": "display_data"
    }
   ],
   "source": [
    "tiktok_data.video_width.hist()"
   ]
  }
 ],
 "metadata": {
  "kernelspec": {
   "display_name": "Python 3",
   "language": "python",
   "name": "python3"
  },
  "language_info": {
   "codemirror_mode": {
    "name": "ipython",
    "version": 3
   },
   "file_extension": ".py",
   "mimetype": "text/x-python",
   "name": "python",
   "nbconvert_exporter": "python",
   "pygments_lexer": "ipython3",
   "version": "3.9.2"
  },
  "orig_nbformat": 4
 },
 "nbformat": 4,
 "nbformat_minor": 2
}
